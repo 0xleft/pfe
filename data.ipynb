{
 "cells": [
  {
   "cell_type": "code",
   "execution_count": 3,
   "metadata": {},
   "outputs": [],
   "source": [
    "import requests\n",
    "import json\n",
    "\n",
    "image_endpoint = \"https://api.qwant.com/v3/search/images?count=1&q=QUERY&t=images&offset=OFFSET&device=desktop&safesearch=1&locale=en_US\""
   ]
  },
  {
   "cell_type": "code",
   "execution_count": 4,
   "metadata": {},
   "outputs": [],
   "source": [
    "def download_image(url, filename):\n",
    "    r = requests.get(url, stream=True, headers={\n",
    "        \"User-Agent\": \"Mozilla/5.0 (X11; Linux x86_64; rv:10.0) Gecko/20100101 Firefox/10.0\"\n",
    "    })\n",
    "    if r.status_code == 200:\n",
    "        with open(filename, 'wb') as f:\n",
    "            for chunk in r:\n",
    "                f.write(chunk)\n",
    "    else:\n",
    "        print(f\"{filename} failed to download\")\n",
    "\n",
    "def get_image(query, offset) -> str:\n",
    "    url = image_endpoint.replace(\"QUERY\", query).replace(\"OFFSET\", str(offset))\n",
    "    r = requests.get(url, headers={\n",
    "        \"User-Agent\": \"Mozilla/5.0 (X11; Linux x86_64; rv:10.0) Gecko/20100101 Firefox/10.0\"\n",
    "    })\n",
    "    if r.status_code == 200:\n",
    "        data = json.loads(r.text)\n",
    "        return data[\"data\"][\"result\"][\"items\"][0][\"media\"]\n",
    "    else:\n",
    "        print(r.text + \"\\n\" + url)"
   ]
  },
  {
   "cell_type": "code",
   "execution_count": 5,
   "metadata": {},
   "outputs": [],
   "source": [
    "faces = [\"laughing\"]"
   ]
  },
  {
   "cell_type": "code",
   "execution_count": 6,
   "metadata": {},
   "outputs": [
    {
     "name": "stdout",
     "output_type": "stream",
     "text": [
      "HTTPSConnectionPool(host='api.qwant.com', port=443): Max retries exceeded with url: /v3/search/images?count=1&q=laughing%20human%20face&t=images&offset=21&device=desktop&safesearch=1&locale=en_US (Caused by NewConnectionError('<urllib3.connection.HTTPSConnection object at 0x000001A3FABBCCD0>: Failed to establish a new connection: [WinError 10060] A connection attempt failed because the connected party did not properly respond after a period of time, or established connection failed because connected host has failed to respond'))\n",
      "Failed to get laughing 21\n",
      "('Connection aborted.', RemoteDisconnected('Remote end closed connection without response'))\n",
      "Failed to get laughing 49\n",
      "('Connection aborted.', RemoteDisconnected('Remote end closed connection without response'))\n",
      "Failed to get laughing 57\n",
      "('Connection aborted.', RemoteDisconnected('Remote end closed connection without response'))\n",
      "Failed to get laughing 60\n",
      "('Connection aborted.', RemoteDisconnected('Remote end closed connection without response'))\n",
      "Failed to get laughing 61\n",
      "('Connection aborted.', RemoteDisconnected('Remote end closed connection without response'))\n",
      "Failed to get laughing 69\n",
      "HTTPSConnectionPool(host='api.qwant.com', port=443): Max retries exceeded with url: /v3/search/images?count=1&q=laughing%20human%20face&t=images&offset=78&device=desktop&safesearch=1&locale=en_US (Caused by NewConnectionError('<urllib3.connection.HTTPSConnection object at 0x000001A3FABBC940>: Failed to establish a new connection: [WinError 10060] A connection attempt failed because the connected party did not properly respond after a period of time, or established connection failed because connected host has failed to respond'))\n",
      "Failed to get laughing 78\n",
      "HTTPSConnectionPool(host='fitnessforfreedom.com', port=443): Max retries exceeded with url: /wp-content/uploads/2015/01/laughing.jpg (Caused by SSLError(SSLCertVerificationError(1, '[SSL: CERTIFICATE_VERIFY_FAILED] certificate verify failed: unable to get local issuer certificate (_ssl.c:1129)')))\n",
      "Failed to get laughing 80\n",
      "HTTPSConnectionPool(host='fitnessforfreedom.com', port=443): Max retries exceeded with url: /wp-content/uploads/2015/01/laughing.jpg (Caused by SSLError(SSLCertVerificationError(1, '[SSL: CERTIFICATE_VERIFY_FAILED] certificate verify failed: unable to get local issuer certificate (_ssl.c:1129)')))\n",
      "Failed to get laughing 83\n",
      "HTTPSConnectionPool(host='fitnessforfreedom.com', port=443): Max retries exceeded with url: /wp-content/uploads/2015/01/laughing.jpg (Caused by SSLError(SSLCertVerificationError(1, '[SSL: CERTIFICATE_VERIFY_FAILED] certificate verify failed: unable to get local issuer certificate (_ssl.c:1129)')))\n",
      "Failed to get laughing 85\n",
      "HTTPSConnectionPool(host='fitnessforfreedom.com', port=443): Max retries exceeded with url: /wp-content/uploads/2015/01/laughing.jpg (Caused by SSLError(SSLCertVerificationError(1, '[SSL: CERTIFICATE_VERIFY_FAILED] certificate verify failed: unable to get local issuer certificate (_ssl.c:1129)')))\n",
      "Failed to get laughing 86\n"
     ]
    }
   ],
   "source": [
    "for face in faces:\n",
    "    for i in range(0, 249):\n",
    "        try:\n",
    "            url = get_image(f\"{face}%20human%20face\", i)\n",
    "            download_image(url, f\"data/{face}/{i}.jpg\")\n",
    "        except Exception as e:\n",
    "            print(e)\n",
    "            print(f\"Failed to get {face} {i}\")"
   ]
  },
  {
   "cell_type": "code",
   "execution_count": null,
   "metadata": {},
   "outputs": [],
   "source": []
  }
 ],
 "metadata": {
  "kernelspec": {
   "display_name": "Python 3 (ipykernel)",
   "language": "python",
   "name": "python3"
  },
  "language_info": {
   "codemirror_mode": {
    "name": "ipython",
    "version": 3
   },
   "file_extension": ".py",
   "mimetype": "text/x-python",
   "name": "python",
   "nbconvert_exporter": "python",
   "pygments_lexer": "ipython3",
   "version": "3.9.18"
  }
 },
 "nbformat": 4,
 "nbformat_minor": 4
}
